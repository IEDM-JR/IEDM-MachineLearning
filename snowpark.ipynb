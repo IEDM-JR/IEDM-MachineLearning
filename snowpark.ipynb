{
 "cells": [
  {
   "cell_type": "markdown",
   "metadata": {},
   "source": [
    "# introduct python3.8 environment "
   ]
  },
  {
   "cell_type": "code",
   "execution_count": 10,
   "metadata": {},
   "outputs": [],
   "source": [
    "#conda create --name py38_env --override-channels -c https://repo.anaconda.com/pkgs/snowflake python=3.8 numpy pandas"
   ]
  },
  {
   "cell_type": "markdown",
   "metadata": {},
   "source": [
    "# install packages"
   ]
  },
  {
   "cell_type": "code",
   "execution_count": 11,
   "metadata": {},
   "outputs": [
    {
     "ename": "SyntaxError",
     "evalue": "invalid syntax (<ipython-input-11-b794ec6d90d6>, line 1)",
     "output_type": "error",
     "traceback": [
      "\u001b[1;36m  File \u001b[1;32m\"<ipython-input-11-b794ec6d90d6>\"\u001b[1;36m, line \u001b[1;32m1\u001b[0m\n\u001b[1;33m    pip install snowflake-snowpark-python\u001b[0m\n\u001b[1;37m        ^\u001b[0m\n\u001b[1;31mSyntaxError\u001b[0m\u001b[1;31m:\u001b[0m invalid syntax\n"
     ]
    }
   ],
   "source": [
    "pip install snowflake-snowpark-python\n",
    "pip install \"snowflake-connector-python[pandas]\"\n",
    "pip install pyspark\n",
    "\n",
    "\n"
   ]
  },
  {
   "cell_type": "code",
   "execution_count": 1,
   "metadata": {},
   "outputs": [],
   "source": [
    "from snowflake.snowpark import Session\n",
    "from snowflake.snowpark.functions import col\n",
    "import pyspark\n",
    "from pyspark.sql import SparkSession\n",
    "import pyarrow\n",
    "import snowflake.connector\n",
    "import pandas as pd"
   ]
  },
  {
   "cell_type": "markdown",
   "metadata": {},
   "source": [
    "# create a session for the snowpark (connection)"
   ]
  },
  {
   "cell_type": "code",
   "execution_count": 2,
   "metadata": {},
   "outputs": [],
   "source": [
    "connection_parameters = {\n",
    "...    \"account\": \"xxxxx\",\n",
    "...    \"user\": \"xxxx\",\n",
    "...    \"password\": \"xxxx\",\n",
    "...    \"role\": \"SYSADMIN\",  # optional\n",
    "...    \"warehouse\": \"COMPUTE_WH\",  # optional\n",
    "...    \"database\": \"IEDM1DB\",  # optional\n",
    "...    \"schema\": \"PROJECT\",  # optional\n",
    "...  }  \n"
   ]
  },
  {
   "cell_type": "markdown",
   "metadata": {},
   "source": [
    "# create a session to connect to Snowflake with connection parameters\n",
    "# recall this session when we need to read, transform, store data in Snowflake."
   ]
  },
  {
   "cell_type": "code",
   "execution_count": 4,
   "metadata": {},
   "outputs": [],
   "source": [
    "session = Session.builder.configs(connection_parameters).create() "
   ]
  },
  {
   "cell_type": "code",
   "execution_count": 5,
   "metadata": {},
   "outputs": [],
   "source": [
    "orders = session.table(\"orders\")\n",
    "departments = session.table(\"departments\")\n",
    "products = session.table(\"products\")\n",
    "aisles = session.table(\"aisles\")\n",
    "op_prior = session.table(\"order_products_prior\")\n",
    "op_train = session.table(\"order_products_train\")"
   ]
  },
  {
   "cell_type": "code",
   "execution_count": 5,
   "metadata": {},
   "outputs": [
    {
     "data": {
      "text/plain": [
       "snowflake.snowpark.table.Table"
      ]
     },
     "execution_count": 5,
     "metadata": {},
     "output_type": "execute_result"
    }
   ],
   "source": [
    "type(orders)"
   ]
  },
  {
   "cell_type": "code",
   "execution_count": 11,
   "metadata": {},
   "outputs": [],
   "source": [
    "order_df = orders.limit(100000).toPandas()\n",
    "department_df = departments.toPandas()\n",
    "product_df = products.toPandas()\n",
    "aisle_df = aisles.toPandas()\n",
    "opTrain_df = op_train.limit(100000).toPandas()\n",
    "opPrior_df = op_prior.limit(100000).toPandas()"
   ]
  },
  {
   "cell_type": "code",
   "execution_count": 8,
   "metadata": {},
   "outputs": [],
   "source": [
    "op = orders.join(op_prior, [\"order_id\"])"
   ]
  },
  {
   "cell_type": "code",
   "execution_count": 9,
   "metadata": {},
   "outputs": [],
   "source": [
    "op_df = op.toPandas()"
   ]
  },
  {
   "cell_type": "code",
   "execution_count": 10,
   "metadata": {},
   "outputs": [
    {
     "data": {
      "text/plain": [
       "pandas.core.frame.DataFrame"
      ]
     },
     "execution_count": 10,
     "metadata": {},
     "output_type": "execute_result"
    }
   ],
   "source": [
    "type(op_df)"
   ]
  },
  {
   "cell_type": "code",
   "execution_count": 13,
   "metadata": {},
   "outputs": [
    {
     "name": "stdout",
     "output_type": "stream",
     "text": [
      "          ORDER_ID  USER_ID EVAL_SET  ORDER_NUMBER  ORDER_DOW  \\\n",
      "0          1555909   150314    prior             9          2   \n",
      "1          1555910   109164    prior            33          0   \n",
      "2          1555910   109164    prior            33          0   \n",
      "3          1555910   109164    prior            33          0   \n",
      "4          1555911    95605    prior            14          0   \n",
      "...            ...      ...      ...           ...        ...   \n",
      "32434484   1555909   150314    prior             9          2   \n",
      "32434485   1555909   150314    prior             9          2   \n",
      "32434486   1555909   150314    prior             9          2   \n",
      "32434487   1555909   150314    prior             9          2   \n",
      "32434488   1555909   150314    prior             9          2   \n",
      "\n",
      "          ORDER_HOUR_OF_DAY  DAYS_SINCE_PRIOR_ORDER  PRODUCT_ID  \\\n",
      "0                        13                     3.0       12658   \n",
      "1                        16                     7.0       20448   \n",
      "2                        16                     7.0       10473   \n",
      "3                        16                     7.0       13097   \n",
      "4                        10                     3.0       47766   \n",
      "...                     ...                     ...         ...   \n",
      "32434484                 13                     3.0       40749   \n",
      "32434485                 13                     3.0       47209   \n",
      "32434486                 13                     3.0       21137   \n",
      "32434487                 13                     3.0       21841   \n",
      "32434488                 13                     3.0       28785   \n",
      "\n",
      "          ADD_TO_CART_ORDER  REORDERED  \n",
      "0                         8          0  \n",
      "1                         1          0  \n",
      "2                         2          1  \n",
      "3                         3          1  \n",
      "4                         1          1  \n",
      "...                     ...        ...  \n",
      "32434484                  3          0  \n",
      "32434485                  4          1  \n",
      "32434486                  5          1  \n",
      "32434487                  6          0  \n",
      "32434488                  7          0  \n",
      "\n",
      "[32434489 rows x 10 columns]\n"
     ]
    }
   ],
   "source": [
    "print(op_df)"
   ]
  },
  {
   "cell_type": "code",
   "execution_count": 14,
   "metadata": {},
   "outputs": [],
   "source": [
    "# user predictor \n",
    "user = op_df.groupby(\"USER_ID\")[\"ORDER_NUMBER\"].count().to_frame(\"user_total_orders\")"
   ]
  },
  {
   "cell_type": "code",
   "execution_count": 15,
   "metadata": {},
   "outputs": [],
   "source": [
    "# product predictor\n",
    "products = op_df.groupby('PRODUCT_ID')['ORDER_NUMBER'].count().to_frame('product_total_purchase')"
   ]
  },
  {
   "cell_type": "code",
   "execution_count": 16,
   "metadata": {},
   "outputs": [],
   "source": [
    "# user product predictor\n",
    "user_product = op_df.groupby(['USER_ID','PRODUCT_ID'])['ORDER_ID'].count().to_frame('user_total_on_product')"
   ]
  },
  {
   "cell_type": "code",
   "execution_count": 17,
   "metadata": {},
   "outputs": [],
   "source": [
    "user_product = user_product.reset_index()"
   ]
  },
  {
   "cell_type": "code",
   "execution_count": 18,
   "metadata": {},
   "outputs": [],
   "source": [
    "merge_data1 = user_product.merge(user, on = 'USER_ID', how = 'left')"
   ]
  },
  {
   "cell_type": "code",
   "execution_count": 19,
   "metadata": {},
   "outputs": [],
   "source": [
    "merge_data2 = merge_data1.merge(products, on = 'PRODUCT_ID', how = 'left')"
   ]
  },
  {
   "cell_type": "markdown",
   "metadata": {},
   "source": [
    "# Train data"
   ]
  },
  {
   "cell_type": "code",
   "execution_count": 20,
   "metadata": {},
   "outputs": [],
   "source": [
    "order_selected = order[['USER_ID','EVAL_SET','ORDER_ID']]"
   ]
  },
  {
   "cell_type": "code",
   "execution_count": 21,
   "metadata": {},
   "outputs": [],
   "source": [
    "merge_data3 = merge_data2.merge(order_selected[:100000], on = 'USER_ID', how = 'left')"
   ]
  },
  {
   "cell_type": "code",
   "execution_count": 22,
   "metadata": {},
   "outputs": [],
   "source": [
    "data = merge_data3.dropna()"
   ]
  },
  {
   "cell_type": "code",
   "execution_count": 23,
   "metadata": {},
   "outputs": [
    {
     "data": {
      "text/plain": [
       "{'prior', 'test', 'train'}"
      ]
     },
     "execution_count": 23,
     "metadata": {},
     "output_type": "execute_result"
    }
   ],
   "source": [
    "set(data['EVAL_SET'])"
   ]
  },
  {
   "cell_type": "code",
   "execution_count": 24,
   "metadata": {},
   "outputs": [],
   "source": [
    "train = data[data.EVAL_SET == 'train']"
   ]
  },
  {
   "cell_type": "code",
   "execution_count": 25,
   "metadata": {},
   "outputs": [
    {
     "data": {
      "text/plain": [
       "248905"
      ]
     },
     "execution_count": 25,
     "metadata": {},
     "output_type": "execute_result"
    }
   ],
   "source": [
    "len(train)"
   ]
  },
  {
   "cell_type": "code",
   "execution_count": 26,
   "metadata": {},
   "outputs": [],
   "source": [
    "opTrain_selected = opTrain[['PRODUCT_ID','ORDER_ID','REORDERED']]"
   ]
  },
  {
   "cell_type": "code",
   "execution_count": 27,
   "metadata": {},
   "outputs": [],
   "source": [
    "opTrain_dropdu = opTrain_selected.drop_duplicates()"
   ]
  },
  {
   "cell_type": "code",
   "execution_count": 28,
   "metadata": {},
   "outputs": [],
   "source": [
    "opTrain_dropna = opTrain_dropdu.dropna()"
   ]
  },
  {
   "cell_type": "code",
   "execution_count": 29,
   "metadata": {},
   "outputs": [],
   "source": [
    "train_merge1 = train.merge(opTrain_dropna[:100000], on = ['PRODUCT_ID'], how='left')"
   ]
  },
  {
   "cell_type": "code",
   "execution_count": 30,
   "metadata": {},
   "outputs": [
    {
     "name": "stdout",
     "output_type": "stream",
     "text": [
      "          USER_ID  PRODUCT_ID  user_total_on_product  user_total_orders  \\\n",
      "0          155035        1263                      1                 25   \n",
      "1          155035        1263                      1                 25   \n",
      "2          155035        1263                      1                 25   \n",
      "3          155035        1263                      1                 25   \n",
      "4          155035        1263                      1                 25   \n",
      "...           ...         ...                    ...                ...   \n",
      "16670168   161135       49235                      1                 93   \n",
      "16670169   161135       49235                      1                 93   \n",
      "16670170   161135       49235                      1                 93   \n",
      "16670171   161135       49235                      1                 93   \n",
      "16670172   161135       49235                      1                 93   \n",
      "\n",
      "          product_total_purchase EVAL_SET  ORDER_ID_x  ORDER_ID_y  REORDERED  \n",
      "0                           3450    train    809799.0      1994.0        1.0  \n",
      "1                           3450    train    809799.0      4968.0        1.0  \n",
      "2                           3450    train    809799.0     25676.0        0.0  \n",
      "3                           3450    train    809799.0     26751.0        1.0  \n",
      "4                           3450    train    809799.0     40338.0        1.0  \n",
      "...                          ...      ...         ...         ...        ...  \n",
      "16670168                   76360    train   2627111.0    240780.0        1.0  \n",
      "16670169                   76360    train   2627111.0    241940.0        1.0  \n",
      "16670170                   76360    train   2627111.0    242127.0        1.0  \n",
      "16670171                   76360    train   2627111.0    243839.0        0.0  \n",
      "16670172                   76360    train   2627111.0    244650.0        1.0  \n",
      "\n",
      "[16670173 rows x 9 columns]\n"
     ]
    }
   ],
   "source": [
    "print(train_merge1)"
   ]
  },
  {
   "cell_type": "markdown",
   "metadata": {},
   "source": [
    "# test data"
   ]
  },
  {
   "cell_type": "code",
   "execution_count": null,
   "metadata": {},
   "outputs": [],
   "source": [
    "test = data[data.EVAL_SET == 'test']"
   ]
  },
  {
   "cell_type": "code",
   "execution_count": null,
   "metadata": {},
   "outputs": [],
   "source": [
    "test_setindex = test.set_index(['USER_ID', 'PRODUCT_ID'])"
   ]
  },
  {
   "cell_type": "code",
   "execution_count": null,
   "metadata": {},
   "outputs": [],
   "source": [
    "test_selected = test.drop(['EVAL_SET','ORDER_ID'], axis=1)"
   ]
  },
  {
   "cell_type": "markdown",
   "metadata": {},
   "source": [
    "# MODEL"
   ]
  },
  {
   "cell_type": "code",
   "execution_count": null,
   "metadata": {},
   "outputs": [],
   "source": [
    "from sklearn.linear_model import LogisticRegression"
   ]
  },
  {
   "cell_type": "code",
   "execution_count": null,
   "metadata": {},
   "outputs": [],
   "source": [
    "x_train, y_train = train_merge1.drop('REORDERED', axis=1), train_merge1.REORDERED"
   ]
  },
  {
   "cell_type": "code",
   "execution_count": null,
   "metadata": {},
   "outputs": [],
   "source": [
    "log = LogisticRegression(random_state=42)"
   ]
  },
  {
   "cell_type": "code",
   "execution_count": null,
   "metadata": {},
   "outputs": [],
   "source": [
    "#model = log.fit(x_train, y_train)"
   ]
  },
  {
   "cell_type": "code",
   "execution_count": null,
   "metadata": {},
   "outputs": [],
   "source": [
    "#session.close() "
   ]
  }
 ],
 "metadata": {
  "kernelspec": {
   "display_name": "Python 3.8.5 64-bit ('anaconda3')",
   "language": "python",
   "name": "python3"
  },
  "language_info": {
   "codemirror_mode": {
    "name": "ipython",
    "version": 3
   },
   "file_extension": ".py",
   "mimetype": "text/x-python",
   "name": "python",
   "nbconvert_exporter": "python",
   "pygments_lexer": "ipython3",
   "version": "3.8.5"
  },
  "orig_nbformat": 4,
  "vscode": {
   "interpreter": {
    "hash": "07f214232b3ac2783d98a05eb37a9d90113890d7c357c178ea84180968f6dbc4"
   }
  }
 },
 "nbformat": 4,
 "nbformat_minor": 2
}
