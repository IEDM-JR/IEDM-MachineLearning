{
 "cells": [
  {
   "cell_type": "code",
   "execution_count": 1,
   "id": "6311f916",
   "metadata": {},
   "outputs": [],
   "source": [
    "import sagemaker\n",
    "from sagemaker import get_execution_role\n",
    "import boto3\n",
    "import pandas as pd\n",
    "import awswrangler as wr"
   ]
  },
  {
   "cell_type": "code",
   "execution_count": 2,
   "id": "398cfbb9",
   "metadata": {},
   "outputs": [],
   "source": [
    "# pip install awswrangler"
   ]
  },
  {
   "cell_type": "markdown",
   "id": "0bbd915a",
   "metadata": {},
   "source": [
    "# 1. load data from S3"
   ]
  },
  {
   "cell_type": "code",
   "execution_count": 3,
   "id": "6200466b",
   "metadata": {},
   "outputs": [],
   "source": [
    "order = wr.s3.read_csv(path=\"s3://bucket-to-snowflake/orders.csv\")\n",
    "op_train = wr.s3.read_csv(path='s3://bucket-to-snowflake/order_products__train.csv.gz', compression='gzip')\n",
    "op_prior = wr.s3.read_csv(path='s3://bucket-to-snowflake/order_products__prior.csv.gz', compression='gzip')\n",
    "product = wr.s3.read_csv(path='s3://bucket-to-snowflake/products.csv')"
   ]
  },
  {
   "cell_type": "markdown",
   "id": "cb125928",
   "metadata": {},
   "source": [
    "# 2. reshape data"
   ]
  },
  {
   "cell_type": "code",
   "execution_count": 4,
   "id": "553726e6",
   "metadata": {},
   "outputs": [],
   "source": [
    "# change data type\n",
    "order['eval_set'] = order['eval_set'].astype('category')\n",
    "product['product_name'] = product['product_name'].astype('category')"
   ]
  },
  {
   "cell_type": "code",
   "execution_count": 5,
   "id": "2aaaa9b7",
   "metadata": {},
   "outputs": [],
   "source": [
    "op = order.merge(op_prior, on = 'order_id', how = 'inner')"
   ]
  },
  {
   "cell_type": "code",
   "execution_count": 17,
   "id": "76d068d9",
   "metadata": {},
   "outputs": [],
   "source": [
    "# user predictor \n",
    "user = op.groupby('user_id')['order_number'].count().to_frame('user_total_orders')"
   ]
  },
  {
   "cell_type": "code",
   "execution_count": 7,
   "id": "ff2dabb9",
   "metadata": {},
   "outputs": [],
   "source": [
    "# product predictor\n",
    "products = op.groupby('product_id')['order_number'].count().to_frame('product_total_purchase')"
   ]
  },
  {
   "cell_type": "code",
   "execution_count": 9,
   "id": "26c0a403",
   "metadata": {},
   "outputs": [],
   "source": [
    "# user product predictor\n",
    "user_product = op.groupby(['user_id','product_id'])['order_id'].count().to_frame('user_total_on_product')"
   ]
  },
  {
   "cell_type": "code",
   "execution_count": 18,
   "id": "e0353bc8",
   "metadata": {},
   "outputs": [],
   "source": [
    "user = user.reset_index()\n",
    "user_product = user_product.reset_index()\n",
    "products = products.reset_index()"
   ]
  },
  {
   "cell_type": "markdown",
   "id": "4457bb7b",
   "metadata": {},
   "source": [
    "## merge predictors"
   ]
  },
  {
   "cell_type": "code",
   "execution_count": 19,
   "id": "78dcaf87",
   "metadata": {},
   "outputs": [],
   "source": [
    "predictor0 = user_product.merge(user, on = 'user_id', how = 'left')"
   ]
  },
  {
   "cell_type": "code",
   "execution_count": 20,
   "id": "717b547b",
   "metadata": {},
   "outputs": [],
   "source": [
    "predictor = predictor0.merge(products, on = 'product_id', how = 'left')"
   ]
  },
  {
   "cell_type": "code",
   "execution_count": 21,
   "id": "b187d3ec",
   "metadata": {},
   "outputs": [
    {
     "data": {
      "text/html": [
       "<div>\n",
       "<style scoped>\n",
       "    .dataframe tbody tr th:only-of-type {\n",
       "        vertical-align: middle;\n",
       "    }\n",
       "\n",
       "    .dataframe tbody tr th {\n",
       "        vertical-align: top;\n",
       "    }\n",
       "\n",
       "    .dataframe thead th {\n",
       "        text-align: right;\n",
       "    }\n",
       "</style>\n",
       "<table border=\"1\" class=\"dataframe\">\n",
       "  <thead>\n",
       "    <tr style=\"text-align: right;\">\n",
       "      <th></th>\n",
       "      <th>user_id</th>\n",
       "      <th>product_id</th>\n",
       "      <th>user_total_on_product</th>\n",
       "      <th>user_total_orders</th>\n",
       "      <th>product_total_purchase</th>\n",
       "    </tr>\n",
       "  </thead>\n",
       "  <tbody>\n",
       "    <tr>\n",
       "      <th>0</th>\n",
       "      <td>1</td>\n",
       "      <td>196</td>\n",
       "      <td>10</td>\n",
       "      <td>59</td>\n",
       "      <td>35791</td>\n",
       "    </tr>\n",
       "    <tr>\n",
       "      <th>1</th>\n",
       "      <td>1</td>\n",
       "      <td>10258</td>\n",
       "      <td>9</td>\n",
       "      <td>59</td>\n",
       "      <td>1946</td>\n",
       "    </tr>\n",
       "    <tr>\n",
       "      <th>2</th>\n",
       "      <td>1</td>\n",
       "      <td>10326</td>\n",
       "      <td>1</td>\n",
       "      <td>59</td>\n",
       "      <td>5526</td>\n",
       "    </tr>\n",
       "    <tr>\n",
       "      <th>3</th>\n",
       "      <td>1</td>\n",
       "      <td>12427</td>\n",
       "      <td>10</td>\n",
       "      <td>59</td>\n",
       "      <td>6476</td>\n",
       "    </tr>\n",
       "    <tr>\n",
       "      <th>4</th>\n",
       "      <td>1</td>\n",
       "      <td>13032</td>\n",
       "      <td>3</td>\n",
       "      <td>59</td>\n",
       "      <td>3751</td>\n",
       "    </tr>\n",
       "    <tr>\n",
       "      <th>...</th>\n",
       "      <td>...</td>\n",
       "      <td>...</td>\n",
       "      <td>...</td>\n",
       "      <td>...</td>\n",
       "      <td>...</td>\n",
       "    </tr>\n",
       "    <tr>\n",
       "      <th>13307948</th>\n",
       "      <td>206209</td>\n",
       "      <td>43961</td>\n",
       "      <td>3</td>\n",
       "      <td>129</td>\n",
       "      <td>55371</td>\n",
       "    </tr>\n",
       "    <tr>\n",
       "      <th>13307949</th>\n",
       "      <td>206209</td>\n",
       "      <td>44325</td>\n",
       "      <td>1</td>\n",
       "      <td>129</td>\n",
       "      <td>3485</td>\n",
       "    </tr>\n",
       "    <tr>\n",
       "      <th>13307950</th>\n",
       "      <td>206209</td>\n",
       "      <td>48370</td>\n",
       "      <td>1</td>\n",
       "      <td>129</td>\n",
       "      <td>3934</td>\n",
       "    </tr>\n",
       "    <tr>\n",
       "      <th>13307951</th>\n",
       "      <td>206209</td>\n",
       "      <td>48697</td>\n",
       "      <td>1</td>\n",
       "      <td>129</td>\n",
       "      <td>9783</td>\n",
       "    </tr>\n",
       "    <tr>\n",
       "      <th>13307952</th>\n",
       "      <td>206209</td>\n",
       "      <td>48742</td>\n",
       "      <td>2</td>\n",
       "      <td>129</td>\n",
       "      <td>1723</td>\n",
       "    </tr>\n",
       "  </tbody>\n",
       "</table>\n",
       "<p>13307953 rows × 5 columns</p>\n",
       "</div>"
      ],
      "text/plain": [
       "          user_id  product_id  user_total_on_product  user_total_orders  \\\n",
       "0               1         196                     10                 59   \n",
       "1               1       10258                      9                 59   \n",
       "2               1       10326                      1                 59   \n",
       "3               1       12427                     10                 59   \n",
       "4               1       13032                      3                 59   \n",
       "...           ...         ...                    ...                ...   \n",
       "13307948   206209       43961                      3                129   \n",
       "13307949   206209       44325                      1                129   \n",
       "13307950   206209       48370                      1                129   \n",
       "13307951   206209       48697                      1                129   \n",
       "13307952   206209       48742                      2                129   \n",
       "\n",
       "          product_total_purchase  \n",
       "0                          35791  \n",
       "1                           1946  \n",
       "2                           5526  \n",
       "3                           6476  \n",
       "4                           3751  \n",
       "...                          ...  \n",
       "13307948                   55371  \n",
       "13307949                    3485  \n",
       "13307950                    3934  \n",
       "13307951                    9783  \n",
       "13307952                    1723  \n",
       "\n",
       "[13307953 rows x 5 columns]"
      ]
     },
     "execution_count": 21,
     "metadata": {},
     "output_type": "execute_result"
    }
   ],
   "source": [
    "predictor"
   ]
  },
  {
   "cell_type": "markdown",
   "id": "3b8cdfe2",
   "metadata": {},
   "source": [
    "# 3. training dataset"
   ]
  },
  {
   "cell_type": "code",
   "execution_count": 23,
   "id": "4e8e7a16",
   "metadata": {},
   "outputs": [],
   "source": [
    "order_s = order[['user_id','eval_set','order_id']]"
   ]
  },
  {
   "cell_type": "code",
   "execution_count": null,
   "id": "8ae6a159",
   "metadata": {},
   "outputs": [],
   "source": [
    "order_predictor = predictor.merge(order_s, on = 'user_id', how = 'left')"
   ]
  },
  {
   "cell_type": "code",
   "execution_count": null,
   "id": "64e9e963",
   "metadata": {},
   "outputs": [],
   "source": []
  },
  {
   "cell_type": "markdown",
   "id": "e7d55c90",
   "metadata": {},
   "source": [
    "22:15 NOV 30 2022"
   ]
  }
 ],
 "metadata": {
  "kernelspec": {
   "display_name": "conda_python3",
   "language": "python",
   "name": "conda_python3"
  },
  "language_info": {
   "codemirror_mode": {
    "name": "ipython",
    "version": 3
   },
   "file_extension": ".py",
   "mimetype": "text/x-python",
   "name": "python",
   "nbconvert_exporter": "python",
   "pygments_lexer": "ipython3",
   "version": "3.8.12"
  }
 },
 "nbformat": 4,
 "nbformat_minor": 5
}
