{
 "cells": [
  {
   "cell_type": "code",
   "execution_count": 1,
   "id": "084061c2",
   "metadata": {},
   "outputs": [],
   "source": [
    "import sagemaker\n",
    "from sagemaker import get_execution_role\n",
    "import boto3\n",
    "import pandas as pd\n",
    "import awswrangler as wr"
   ]
  },
  {
   "cell_type": "code",
   "execution_count": null,
   "id": "cd9c5226",
   "metadata": {},
   "outputs": [],
   "source": [
    "# pip install awswrangler"
   ]
  },
  {
   "cell_type": "markdown",
   "id": "141b730b",
   "metadata": {},
   "source": [
    "# 1. load data from S3"
   ]
  },
  {
   "cell_type": "code",
   "execution_count": 2,
   "id": "7a6c8de3",
   "metadata": {},
   "outputs": [],
   "source": [
    "order = wr.s3.read_csv(path=\"s3://bucket-to-snowflake/orders.csv\")\n",
    "op_train = wr.s3.read_csv(path='s3://bucket-to-snowflake/order_products__train.csv.gz', compression='gzip')\n",
    "op_prior = wr.s3.read_csv(path='s3://bucket-to-snowflake/order_products__prior.csv.gz', compression='gzip')\n",
    "product = wr.s3.read_csv(path='s3://bucket-to-snowflake/products.csv')"
   ]
  },
  {
   "cell_type": "markdown",
   "id": "fdebda3c",
   "metadata": {},
   "source": [
    "# 2. reshape data"
   ]
  },
  {
   "cell_type": "code",
   "execution_count": 3,
   "id": "141cfe3e",
   "metadata": {},
   "outputs": [],
   "source": [
    "# change data type\n",
    "order['eval_set'] = order['eval_set'].astype('category')\n",
    "product['product_name'] = product['product_name'].astype('category')"
   ]
  },
  {
   "cell_type": "code",
   "execution_count": null,
   "id": "f33de645",
   "metadata": {},
   "outputs": [],
   "source": [
    "order_opp_merge = order.merge(op_prior, on = 'order_id', how = 'inner')"
   ]
  },
  {
   "cell_type": "code",
   "execution_count": null,
   "id": "6c65235f",
   "metadata": {},
   "outputs": [],
   "source": []
  },
  {
   "cell_type": "markdown",
   "id": "b3f6a379",
   "metadata": {},
   "source": [
    "22:15 NOV 30 2022"
   ]
  }
 ],
 "metadata": {
  "kernelspec": {
   "display_name": "conda_python3",
   "language": "python",
   "name": "conda_python3"
  },
  "language_info": {
   "codemirror_mode": {
    "name": "ipython",
    "version": 3
   },
   "file_extension": ".py",
   "mimetype": "text/x-python",
   "name": "python",
   "nbconvert_exporter": "python",
   "pygments_lexer": "ipython3",
   "version": "3.8.12"
  }
 },
 "nbformat": 4,
 "nbformat_minor": 5
}
