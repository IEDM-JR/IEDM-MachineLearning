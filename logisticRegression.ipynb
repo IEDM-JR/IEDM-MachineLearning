{
 "cells": [
  {
   "cell_type": "code",
   "execution_count": 4,
   "id": "084061c2",
   "metadata": {},
   "outputs": [],
   "source": [
    "import sagemaker\n",
    "from sagemaker import get_execution_role\n",
    "import boto3\n",
    "import pandas as pd"
   ]
  },
  {
   "cell_type": "code",
   "execution_count": 3,
   "id": "d43a7d4e",
   "metadata": {},
   "outputs": [],
   "source": [
    "#Create a SageMaker session\n",
    "sagemaker_session = sagemaker.Session()\n",
    "bucket = \"bucket-to-snowflake\"\n",
    "prefix = \"linear-learner\" #prefix is a sub-folder/key within the S3 bucket\n",
    "\n",
    "#Access SageMaker role created prior to session\n",
    "#Need to pass role to training job\n",
    "role = sagemaker.get_execution_role()"
   ]
  },
  {
   "cell_type": "markdown",
   "id": "fdebda3c",
   "metadata": {},
   "source": [
    "# load data"
   ]
  },
  {
   "cell_type": "code",
   "execution_count": 7,
   "id": "0acbbb2a",
   "metadata": {},
   "outputs": [],
   "source": [
    "order = pd.read_csv('orders.csv')\n",
    "op_train = pd.read_csv('order_products__train.csv.gz')\n",
    "op_prior = pd.read_csv('order_products__prior.csv.gz')\n",
    "product = pd.read_csv('products.csv')"
   ]
  },
  {
   "cell_type": "code",
   "execution_count": null,
   "id": "141cfe3e",
   "metadata": {},
   "outputs": [],
   "source": []
  },
  {
   "cell_type": "markdown",
   "id": "b3f6a379",
   "metadata": {},
   "source": [
    "22:15 NOV 30 2022"
   ]
  }
 ],
 "metadata": {
  "kernelspec": {
   "display_name": "conda_python3",
   "language": "python",
   "name": "conda_python3"
  },
  "language_info": {
   "codemirror_mode": {
    "name": "ipython",
    "version": 3
   },
   "file_extension": ".py",
   "mimetype": "text/x-python",
   "name": "python",
   "nbconvert_exporter": "python",
   "pygments_lexer": "ipython3",
   "version": "3.8.12"
  }
 },
 "nbformat": 4,
 "nbformat_minor": 5
}
