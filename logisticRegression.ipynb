{
 "cells": [
  {
   "cell_type": "code",
   "execution_count": 1,
   "id": "3bcb1b2b",
   "metadata": {},
   "outputs": [],
   "source": [
    "import sagemaker\n",
    "from sagemaker import get_execution_role\n",
    "import boto3\n",
    "import pandas as pd\n",
    "import awswrangler as wr"
   ]
  },
  {
   "cell_type": "code",
   "execution_count": null,
   "id": "89e648bc",
   "metadata": {},
   "outputs": [],
   "source": [
    "# pip install awswrangler"
   ]
  },
  {
   "cell_type": "markdown",
   "id": "0f8bad8a",
   "metadata": {},
   "source": [
    "# 1. load data from S3"
   ]
  },
  {
   "cell_type": "code",
   "execution_count": 2,
   "id": "b995e93b",
   "metadata": {},
   "outputs": [],
   "source": [
    "order = wr.s3.read_csv(path=\"s3://bucket-to-snowflake/orders.csv\")\n",
    "op_train = wr.s3.read_csv(path='s3://bucket-to-snowflake/order_products__train.csv.gz', compression='gzip')\n",
    "op_prior = wr.s3.read_csv(path='s3://bucket-to-snowflake/order_products__prior.csv.gz', compression='gzip')\n",
    "product = wr.s3.read_csv(path='s3://bucket-to-snowflake/products.csv')"
   ]
  },
  {
   "cell_type": "markdown",
   "id": "1c013c2e",
   "metadata": {},
   "source": [
    "# 2. reshape data"
   ]
  },
  {
   "cell_type": "code",
   "execution_count": 3,
   "id": "870ace0f",
   "metadata": {},
   "outputs": [],
   "source": [
    "# change data type\n",
    "order['eval_set'] = order['eval_set'].astype('category')\n",
    "product['product_name'] = product['product_name'].astype('category')"
   ]
  },
  {
   "cell_type": "code",
   "execution_count": null,
   "id": "f70b93cb",
   "metadata": {},
   "outputs": [],
   "source": [
    "order_opp_merge = order.merge(op_prior, on = 'order_id', how = 'inner')"
   ]
  },
  {
   "cell_type": "code",
   "execution_count": null,
   "id": "66bb6ba4",
   "metadata": {},
   "outputs": [],
   "source": [
    "# user predictor \n",
    "user = order_opp_merge.groupby('user_id')['order_number'].max().to_frame('user_total_orders')"
   ]
  },
  {
   "cell_type": "code",
   "execution_count": null,
   "id": "6faf6453",
   "metadata": {},
   "outputs": [],
   "source": []
  },
  {
   "cell_type": "markdown",
   "id": "65754873",
   "metadata": {},
   "source": [
    "22:15 NOV 30 2022"
   ]
  }
 ],
 "metadata": {
  "kernelspec": {
   "display_name": "conda_python3",
   "language": "python",
   "name": "conda_python3"
  },
  "language_info": {
   "codemirror_mode": {
    "name": "ipython",
    "version": 3
   },
   "file_extension": ".py",
   "mimetype": "text/x-python",
   "name": "python",
   "nbconvert_exporter": "python",
   "pygments_lexer": "ipython3",
   "version": "3.8.12"
  }
 },
 "nbformat": 4,
 "nbformat_minor": 5
}
